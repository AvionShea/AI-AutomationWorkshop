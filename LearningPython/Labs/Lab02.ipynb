{
 "cells": [
  {
   "cell_type": "markdown",
   "metadata": {},
   "source": [
    "# Lab Two: To-Do List Program\n",
    "12/13/2024"
   ]
  },
  {
   "cell_type": "code",
   "execution_count": null,
   "metadata": {},
   "outputs": [],
   "source": [
    "def todo_list_program():\n",
    "  todo_list = []\n",
    "  while True:\n",
    "    print(\"\\nTo-Do List Menu:\")\n",
    "    print(\"1. Add Task\")\n",
    "    print(\"2. View Tasks\")\n",
    "    print(\"3. Remove Task\")\n",
    "    print(\"4. Quit\")\n",
    "    choice = input(\"Enter your choice (1-4): \")\n",
    "\n",
    "    if choice == \"1\":\n",
    "      task = input(\"Enter a task: \")\n",
    "      todo_list.append(task)\n",
    "      print(\"Task added successfully!\\n\", todo_list)\n",
    "    elif choice == \"2\":\n",
    "      print(\"Tasks:\")\n",
    "      for idx, task in enumerate(todo_list, start=1):\n",
    "        print(f\"{idx}. {task}\")\n",
    "    elif choice == \"3\":\n",
    "        print(\"Tasks:\")\n",
    "        for idx, task in enumerate(todo_list, start=1):\n",
    "          print(f\"{idx}. {task}\")\n",
    "          task_num = int(input(\"Enter the task number to remove: \"))\n",
    "          if 0 < task_num <= len(todo_list):\n",
    "            removed_task = todo_list.pop(task_num - 1)\n",
    "            print(f\"Task '{removed_task}' removed successfully!\\n\", todo_list)\n",
    "          else:\n",
    "            print(\"Invalid task number. Please try again.\")\n",
    "    elif choice == \"4\":\n",
    "          print(\"Exiting program. Goodbye!\")\n",
    "          break\n",
    "    else:\n",
    "          print(\"Invalid choice. Please try again.\")"
   ]
  },
  {
   "cell_type": "code",
   "execution_count": null,
   "metadata": {},
   "outputs": [],
   "source": [
    "todo_list_program()"
   ]
  }
 ],
 "metadata": {
  "language_info": {
   "name": "python"
  }
 },
 "nbformat": 4,
 "nbformat_minor": 2
}
