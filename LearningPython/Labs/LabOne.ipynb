{
  "nbformat": 4,
  "nbformat_minor": 0,
  "metadata": {
    "colab": {
      "provenance": [],
      "toc_visible": true
    },
    "kernelspec": {
      "name": "python3",
      "display_name": "Python 3"
    },
    "language_info": {
      "name": "python"
    }
  },
  "cells": [
    {
      "cell_type": "markdown",
      "source": [
        "# Lab 1: Monthly Expenses Calculator"
      ],
      "metadata": {
        "id": "QqHGHGiX3uwF"
      }
    },
    {
      "cell_type": "code",
      "execution_count": 3,
      "metadata": {
        "id": "q7Hpu6Vx1iVZ"
      },
      "outputs": [],
      "source": [
        "def calculate_expenses():\n",
        "  rent = float(input(\"Enter rent payment amount: \"))\n",
        "  credit_card = float(input(\"Enter credit card payment amount: \"))\n",
        "  utilities = float(input(\"Enter utilities payment amount: \"))\n",
        "  electicity = float(input('Enter electricity payment amount: '))\n",
        "  miscellaneous_expenses = float(input(\"Enter miscellaneous expenses: \"))\n",
        "  total_expenses = rent + credit_card + utilities + electicity + miscellaneous_expenses\n",
        "  print(f\"Your total expenses are ${total_expenses:.2f}\")"
      ]
    },
    {
      "cell_type": "code",
      "source": [
        "calculate_expenses()"
      ],
      "metadata": {
        "id": "AmFTbh7d26cF"
      },
      "execution_count": null,
      "outputs": []
    }
  ]
}