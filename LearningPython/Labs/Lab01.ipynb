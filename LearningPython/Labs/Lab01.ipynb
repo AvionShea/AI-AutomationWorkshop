{
 "cells": [
  {
   "cell_type": "markdown",
   "metadata": {
    "id": "QqHGHGiX3uwF"
   },
   "source": [
    "# Lab 1: Monthly Expenses Calculator"
   ]
  },
  {
   "cell_type": "markdown",
   "metadata": {},
   "source": [
    "12/11/2024"
   ]
  },
  {
   "cell_type": "code",
   "execution_count": null,
   "metadata": {
    "id": "q7Hpu6Vx1iVZ"
   },
   "outputs": [],
   "source": [
    "def calculate_expenses():\n",
    "  rent = float(input(\"Enter rent payment amount: \"))\n",
    "  credit_card = float(input(\"Enter credit card payment amount: \"))\n",
    "  utilities = float(input(\"Enter utilities payment amount: \"))\n",
    "  electricity = float(input('Enter electricity payment amount: '))\n",
    "  miscellaneous_expenses = float(input(\"Enter miscellaneous expenses: \"))\n",
    "  total_expenses = rent + credit_card + utilities + electricity + miscellaneous_expenses\n",
    "  print(f\"Your total expenses are ${total_expenses:.2f}\")"
   ]
  },
  {
   "cell_type": "code",
   "execution_count": null,
   "metadata": {
    "id": "AmFTbh7d26cF"
   },
   "outputs": [],
   "source": [
    "calculate_expenses()"
   ]
  }
 ],
 "metadata": {
  "colab": {
   "provenance": [],
   "toc_visible": true
  },
  "kernelspec": {
   "display_name": "Python 3",
   "name": "python3"
  },
  "language_info": {
   "name": "python"
  }
 },
 "nbformat": 4,
 "nbformat_minor": 0
}
