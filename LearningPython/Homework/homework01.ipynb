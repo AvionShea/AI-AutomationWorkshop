{
 "cells": [
  {
   "cell_type": "markdown",
   "metadata": {},
   "source": [
    "# Homework 01"
   ]
  },
  {
   "cell_type": "markdown",
   "metadata": {},
   "source": [
    "# Write a Python program that:\n",
    "- takes a list of numbers from the user.\n",
    "- Calculates the sum, average, maximum, and minimum of the numbers."
   ]
  },
  {
   "cell_type": "code",
   "execution_count": null,
   "metadata": {},
   "outputs": [],
   "source": [
    "def calculate_stats():\n",
    "    try:\n",
    "        numbers_str = input(\"Enter a list of number separated by spaces: \")\n",
    "        numbers = [float(x) in numbers_str.split()]\n",
    "\n",
    "        if not numbers:\n",
    "            print(\"No number entered.\")\n",
    "            return\n",
    "        total = sum(numbers)\n",
    "        average = total / len(numbers)\n",
    "        maximum = max(numbers)\n",
    "        minimum = min(numbers)\n",
    "\n",
    "        print(\"Sum:\", total)\n",
    "        print(\"Average:\", average)\n",
    "        print(\"Maximum:\", maximum)\n",
    "        print(\"Minimum:\", minimum)\n",
    "    except ValueError:\n",
    "        print(\"Invalid input. Please enter numbers only.\")"
   ]
  }
 ],
 "metadata": {
  "language_info": {
   "name": "python"
  }
 },
 "nbformat": 4,
 "nbformat_minor": 2
}
